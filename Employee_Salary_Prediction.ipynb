{
  "nbformat": 4,
  "nbformat_minor": 0,
  "metadata": {
    "colab": {
      "provenance": [],
      "authorship_tag": "ABX9TyOzW1L/9Zi2DG7Xe3UEfGVg",
      "include_colab_link": true
    },
    "kernelspec": {
      "name": "python3",
      "display_name": "Python 3"
    },
    "language_info": {
      "name": "python"
    }
  },
  "cells": [
    {
      "cell_type": "markdown",
      "metadata": {
        "id": "view-in-github",
        "colab_type": "text"
      },
      "source": [
        "<a href=\"https://colab.research.google.com/github/thevirusoup/thevirusoup/blob/main/Employee_Salary_Prediction.ipynb\" target=\"_parent\"><img src=\"https://colab.research.google.com/assets/colab-badge.svg\" alt=\"Open In Colab\"/></a>"
      ]
    },
    {
      "cell_type": "code",
      "execution_count": 1,
      "metadata": {
        "colab": {
          "base_uri": "https://localhost:8080/"
        },
        "id": "bzougZ9SYqc6",
        "outputId": "b391a28b-a9d9-4863-c941-b61944c70d42"
      },
      "outputs": [
        {
          "output_type": "stream",
          "name": "stdout",
          "text": [
            "Model Evaluation Results:\n",
            "--------------------------\n",
            "Mean Absolute Error (MAE): 9350.00\n",
            "Root Mean Squared Error (RMSE): 11246.56\n",
            "R² Score: 0.68\n",
            "\n",
            "Actual Salaries: [85000 45000]\n",
            "Predicted Salaries: [69400. 48100.]\n",
            "\n",
            "Model saved as 'salary_prediction_model.pkl'\n"
          ]
        }
      ],
      "source": [
        "\n",
        "# Employee Salary Prediction Model\n",
        "\n",
        "import pandas as pd\n",
        "import numpy as np\n",
        "from sklearn.model_selection import train_test_split\n",
        "from sklearn.ensemble import RandomForestRegressor\n",
        "from sklearn.metrics import mean_absolute_error, mean_squared_error, r2_score\n",
        "import joblib\n",
        "\n",
        "# Step 1: Load or Create Dataset\n",
        "data = {\n",
        "    'Experience': [1, 3, 5, 7, 9, 2, 4, 6, 8, 10],\n",
        "    'EducationLevel': [1, 2, 2, 3, 3, 1, 2, 3, 2, 3],  # 1: Bachelors, 2: Masters, 3: PhD\n",
        "    'LocationIndex': [2, 1, 3, 2, 1, 3, 1, 2, 3, 2],   # Location encoded numerically\n",
        "    'RoleIndex': [1, 2, 1, 3, 2, 1, 2, 1, 3, 2],       # Job role encoded numerically\n",
        "    'Salary': [30000, 45000, 60000, 75000, 90000, 35000, 50000, 70000, 85000, 95000]\n",
        "}\n",
        "df = pd.DataFrame(data)\n",
        "\n",
        "# Step 2: Define Features and Target\n",
        "X = df.drop('Salary', axis=1)\n",
        "y = df['Salary']\n",
        "\n",
        "# Step 3: Split Data\n",
        "X_train, X_test, y_train, y_test = train_test_split(X, y, test_size=0.2, random_state=42)\n",
        "\n",
        "# Step 4: Train Model\n",
        "model = RandomForestRegressor(n_estimators=100, random_state=42)\n",
        "model.fit(X_train, y_train)\n",
        "\n",
        "# Step 5: Make Predictions\n",
        "y_pred = model.predict(X_test)\n",
        "\n",
        "# Step 6: Evaluate Model\n",
        "mae = mean_absolute_error(y_test, y_pred)\n",
        "rmse = np.sqrt(mean_squared_error(y_test, y_pred))\n",
        "r2 = r2_score(y_test, y_pred)\n",
        "\n",
        "print(\"Model Evaluation Results:\")\n",
        "print(\"--------------------------\")\n",
        "print(f\"Mean Absolute Error (MAE): {mae:.2f}\")\n",
        "print(f\"Root Mean Squared Error (RMSE): {rmse:.2f}\")\n",
        "print(f\"R² Score: {r2:.2f}\")\n",
        "print()\n",
        "print(\"Actual Salaries:\", y_test.values)\n",
        "print(\"Predicted Salaries:\", np.round(y_pred, 2))\n",
        "\n",
        "# Step 7: Save Model (Optional)\n",
        "joblib.dump(model, 'salary_prediction_model.pkl')\n",
        "print(\"\\nModel saved as 'salary_prediction_model.pkl'\")\n"
      ]
    }
  ]
}