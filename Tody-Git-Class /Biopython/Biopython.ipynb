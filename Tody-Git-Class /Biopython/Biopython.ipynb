{
  "nbformat": 4,
  "nbformat_minor": 0,
  "metadata": {
    "colab": {
      "provenance": [],
      "include_colab_link": true
    },
    "kernelspec": {
      "name": "python3",
      "display_name": "Python 3"
    },
    "language_info": {
      "name": "python"
    }
  },
  "cells": [
    {
      "cell_type": "markdown",
      "metadata": {
        "id": "view-in-github",
        "colab_type": "text"
      },
      "source": [
        "<a href=\"https://colab.research.google.com/github/thevirusoup/thevirusoup/blob/main/Tody-Git-Class%20/Biopython/Biopython.ipynb\" target=\"_parent\"><img src=\"https://colab.research.google.com/assets/colab-badge.svg\" alt=\"Open In Colab\"/></a>"
      ]
    },
    {
      "cell_type": "markdown",
      "source": [
        "**Creator:**  \n",
        "Dr. KANAKA K. K. PhD, ARS  \n",
        "Scientist  \n",
        "School of Bioinformatics and Computational Biology  \n",
        "ICAR-Indian Institute of Agricultural Biotechnology, Ranchi.\n",
        "\n",
        "---\n",
        "\n",
        "**Spy on me at :)**  \n",
        "[GitHub](https://github.com) | [Google Scholar](https://scholar.google.com) | [ResearchGate](https://www.researchgate.net) | [Website](https://www.example.com)\n"
      ],
      "metadata": {
        "id": "LGNtPLJXetrG"
      }
    },
    {
      "cell_type": "markdown",
      "source": [],
      "metadata": {
        "id": "wZZIvPwC4MR3"
      }
    },
    {
      "cell_type": "markdown",
      "source": [
        "Creator:\n",
        "\n",
        "## **Tanzil Fatima**\n",
        "\n",
        "B.Tech Biotehnology Student\n",
        "\n",
        "ICAR-IIAB\n",
        "\n",
        "[Github](https://github.com/thevirusoup)\n"
      ],
      "metadata": {
        "id": "dqwygrMX4RLF"
      }
    },
    {
      "cell_type": "markdown",
      "source": [
        "**Biopython** is a powerful open-source collection of tools and libraries designed for computational biology, bioinformatics, and related fields. Below is a categorized list of major functionalities available in Biopython:\n",
        "\n",
        "---\n",
        "\n",
        "### **1. Sequence Handling**\n",
        "\n",
        "* Reading, writing, and manipulating biological sequences (DNA, RNA, protein)\n",
        "* Reverse complement, translation, and transcription of sequences\n",
        "* Alphabet support (e.g., IUPAC for DNA/RNA/proteins)\n",
        "\n",
        "### **2. File Parsing and Writing**\n",
        "\n",
        "* Support for bioinformatics file formats:\n",
        "\n",
        "  * FASTA, GenBank, EMBL, Clustal, Stockholm\n",
        "  * Newick (phylogenetic trees), FASTQ, GFF/GTF, PDB (protein structures)\n",
        "* Conversion between formats\n",
        "\n",
        "### **3. Access to Online Databases and Tools**\n",
        "\n",
        "* NCBI Entrez (e.g., PubMed, GenBank queries)\n",
        "* ExPASy (protein-related tools)\n",
        "* BLAST (online and local execution)\n",
        "* KEGG, UniProt, SCOP access\n",
        "\n",
        "### **4. Sequence Alignment**\n",
        "\n",
        "* Pairwise and multiple sequence alignment\n",
        "* Wrappers for external tools (e.g., ClustalW, MUSCLE, MAFFT)\n",
        "\n",
        "### **5. Structural Biology**\n",
        "\n",
        "* Parse, analyze, and visualize 3D structures (e.g., PDB files)\n",
        "* Work with atoms, residues, and chains in proteins\n",
        "\n",
        "### **6. Population Genetics & Phylogenetics**\n",
        "\n",
        "* Parse phylogenetic trees (Newick format)\n",
        "* Interface with tools like PhyloXML\n",
        "* Basic tree manipulations and visualization\n",
        "\n",
        "### **7. Genome and Transcriptome Data Handling**\n",
        "\n",
        "* Parsing GFF/GTF annotation files\n",
        "* Extracting features from GenBank/EMBL records\n",
        "* Working with gene models and annotations\n",
        "\n",
        "### **8. Codon Usage and Translation Tables**\n",
        "\n",
        "* Codon usage analysis\n",
        "* Custom genetic code translation\n",
        "\n",
        "### **9. Graphics and Visualization**\n",
        "\n",
        "* Generating sequence logos, chromosome maps\n",
        "* Basic 2D molecular structure rendering\n",
        "\n",
        "### **10. Utilities and Tool Wrappers**\n",
        "\n",
        "* Wrappers for command-line bioinformatics tools (BLAST, Clustal, etc.)\n",
        "* Utilities for working with FASTA, quality scores, etc.\n"
      ],
      "metadata": {
        "id": "Hut2mr9RVxRu"
      }
    },
    {
      "cell_type": "markdown",
      "source": [],
      "metadata": {
        "id": "9rWP211dWgGO"
      }
    },
    {
      "cell_type": "markdown",
      "source": [
        "#**1. Sequence Handling**"
      ],
      "metadata": {
        "id": "RspiR3UrWf-b"
      }
    },
    {
      "cell_type": "code",
      "execution_count": null,
      "metadata": {
        "colab": {
          "base_uri": "https://localhost:8080/"
        },
        "id": "GvcopINmVt1l",
        "outputId": "c5268b29-a307-4c5e-c2fc-1ec70d0114d8"
      },
      "outputs": [
        {
          "output_type": "stream",
          "name": "stdout",
          "text": [
            "Collecting biopython\n",
            "  Downloading biopython-1.85-cp311-cp311-manylinux_2_17_x86_64.manylinux2014_x86_64.whl.metadata (13 kB)\n",
            "Requirement already satisfied: numpy in /usr/local/lib/python3.11/dist-packages (from biopython) (2.0.2)\n",
            "Downloading biopython-1.85-cp311-cp311-manylinux_2_17_x86_64.manylinux2014_x86_64.whl (3.3 MB)\n",
            "\u001b[2K   \u001b[90m━━━━━━━━━━━━━━━━━━━━━━━━━━━━━━━━━━━━━━━━\u001b[0m \u001b[32m3.3/3.3 MB\u001b[0m \u001b[31m18.7 MB/s\u001b[0m eta \u001b[36m0:00:00\u001b[0m\n",
            "\u001b[?25hInstalling collected packages: biopython\n",
            "Successfully installed biopython-1.85\n",
            "DNA Sequence: ATGGCCATTGTAATGGGCCGCTGAAAGGGTGCCCGATAG\n",
            "Transcribed RNA: AUGGCCAUUGUAAUGGGCCGCUGAAAGGGUGCCCGAUAG\n",
            "Translated Protein: MAIVMGR*KGAR*\n",
            "Reverse Complement: CTATCGGGCACCCTTTCAGCGGCCCATTACAATGGCCAT\n"
          ]
        }
      ],
      "source": [
        "# Step 1: Install Biopython\n",
        "!pip install biopython\n",
        "\n",
        "# Step 2: Import the required module\n",
        "from Bio.Seq import Seq\n",
        "\n",
        "# Step 3: Create a DNA sequence\n",
        "dna_seq = Seq(\"ATGGCCATTGTAATGGGCCGCTGAAAGGGTGCCCGATAG\")\n",
        "print(\"DNA Sequence:\", dna_seq)\n",
        "\n",
        "# Step 4: Transcribe DNA to RNA\n",
        "rna_seq = dna_seq.transcribe()\n",
        "print(\"Transcribed RNA:\", rna_seq)\n",
        "\n",
        "# Step 5: Translate RNA to Protein\n",
        "protein_seq = rna_seq.translate()\n",
        "print(\"Translated Protein:\", protein_seq)\n",
        "\n",
        "# Step 6: Reverse Complement of DNA\n",
        "rev_comp = dna_seq.reverse_complement()\n",
        "print(\"Reverse Complement:\", rev_comp)\n"
      ]
    },
    {
      "cell_type": "markdown",
      "source": [
        "#**2. File Parsing and Writing**\n",
        "\n",
        "This example demonstrates:\n",
        "\n",
        "Writing a FASTA file\n",
        "\n",
        "Reading the FASTA file using SeqIO\n",
        "\n",
        "Accessing sequence data and description"
      ],
      "metadata": {
        "id": "L3rIeQZpW0N3"
      }
    },
    {
      "cell_type": "code",
      "source": [
        "# Step 1: Install Biopython\n",
        "#!pip install biopython\n",
        "\n",
        "# Step 2: Import required module\n",
        "from Bio import SeqIO\n",
        "from Bio.Seq import Seq\n",
        "from Bio.SeqRecord import SeqRecord\n",
        "\n",
        "# Step 3: Create and write a FASTA file\n",
        "seq1 = SeqRecord(Seq(\"ATGGCCATTGTAATGGGCCGCTGAAAGGGTGCCCGATAG\"), id=\"seq1\", description=\"Example DNA sequence 1\")\n",
        "seq2 = SeqRecord(Seq(\"ATGCGTACTGATCGTACTGACGTAGCTAGT\"), id=\"seq2\", description=\"Example DNA sequence 2\")\n",
        "\n",
        "# Write sequences to a FASTA file\n",
        "with open(\"example.fasta\", \"w\") as output_handle:\n",
        "    SeqIO.write([seq1, seq2], output_handle, \"fasta\")\n",
        "\n",
        "# Step 4: Read and parse the FASTA file\n",
        "print(\"Parsed sequences from FASTA:\")\n",
        "for record in SeqIO.parse(\"example.fasta\", \"fasta\"):\n",
        "    print(\"ID:\", record.id)\n",
        "    print(\"Description:\", record.description)\n",
        "    print(\"Sequence:\", record.seq)\n",
        "    print(\"Length:\", len(record.seq))\n",
        "    print(\"-\" * 40)\n"
      ],
      "metadata": {
        "colab": {
          "base_uri": "https://localhost:8080/"
        },
        "id": "u_8z9rkXW5gv",
        "outputId": "c76fd1ca-7c7d-4930-caf4-b3c10268efaa"
      },
      "execution_count": null,
      "outputs": [
        {
          "output_type": "stream",
          "name": "stdout",
          "text": [
            "Parsed sequences from FASTA:\n",
            "ID: seq1\n",
            "Description: seq1 Example DNA sequence 1\n",
            "Sequence: ATGGCCATTGTAATGGGCCGCTGAAAGGGTGCCCGATAG\n",
            "Length: 39\n",
            "----------------------------------------\n",
            "ID: seq2\n",
            "Description: seq2 Example DNA sequence 2\n",
            "Sequence: ATGCGTACTGATCGTACTGACGTAGCTAGT\n",
            "Length: 30\n",
            "----------------------------------------\n"
          ]
        }
      ]
    },
    {
      "cell_type": "markdown",
      "source": [
        "#**3. Sequence Alignment**\n",
        "\n",
        "This example demonstrates:\n",
        "\n",
        "Pairwise sequence alignment using pairwise2\n",
        "\n",
        "Multiple sequence alignment using ClustalwCommandline wrapper.\n"
      ],
      "metadata": {
        "id": "Z7z5Y5EkXaDC"
      }
    },
    {
      "cell_type": "code",
      "source": [
        "# Step 1: Install Biopython\n",
        "#!pip install biopython\n",
        "\n",
        "# Step 2: Import required modules\n",
        "from Bio import pairwise2\n",
        "from Bio.pairwise2 import format_alignment\n",
        "from Bio.Align import MultipleSeqAlignment\n",
        "from Bio.Seq import Seq\n",
        "from Bio.SeqRecord import SeqRecord\n",
        "\n",
        "# Step 3: Pairwise Sequence Alignment\n",
        "seq1 = \"AGCTGAC\"\n",
        "seq2 = \"AGCTGACG\"\n",
        "\n",
        "# Perform pairwise alignment\n",
        "alignments = pairwise2.align.globalxx(seq1, seq2)\n",
        "\n",
        "# Print the alignment result\n",
        "print(\"Pairwise Alignment:\")\n",
        "for alignment in alignments:\n",
        "    print(format_alignment(*alignment))\n",
        "\n",
        "# Step 4: Multiple Sequence Alignment (With Padding to Same Length)\n",
        "# Define sequences of different lengths\n",
        "seq1 = SeqRecord(Seq(\"AGCTGAC\"), id=\"seq1\")\n",
        "seq2 = SeqRecord(Seq(\"AGCTGACG\"), id=\"seq2\")\n",
        "seq3 = SeqRecord(Seq(\"AGCTGACC\"), id=\"seq3\")\n",
        "\n",
        "# Pad sequences to the same length (e.g., the length of the longest sequence)\n",
        "max_len = max(len(seq1), len(seq2), len(seq3))\n",
        "\n",
        "# Pad sequences with gaps ('-') by converting them to strings first\n",
        "seq1.seq = Seq(str(seq1.seq).ljust(max_len, '-'))\n",
        "seq2.seq = Seq(str(seq2.seq).ljust(max_len, '-'))\n",
        "seq3.seq = Seq(str(seq3.seq).ljust(max_len, '-'))\n",
        "\n",
        "# Create a MultipleSeqAlignment object\n",
        "alignment = MultipleSeqAlignment([seq1, seq2, seq3])\n",
        "\n",
        "# Display the alignment\n",
        "print(\"\\nMultiple Sequence Alignment Result:\")\n",
        "print(alignment)\n"
      ],
      "metadata": {
        "colab": {
          "base_uri": "https://localhost:8080/"
        },
        "id": "707SoowPX1j8",
        "outputId": "8b0aefac-3320-4535-a11a-4600f31e03ce"
      },
      "execution_count": null,
      "outputs": [
        {
          "output_type": "stream",
          "name": "stdout",
          "text": [
            "Pairwise Alignment:\n",
            "AGCTGAC-\n",
            "||||||| \n",
            "AGCTGACG\n",
            "  Score=7\n",
            "\n",
            "\n",
            "Multiple Sequence Alignment Result:\n",
            "Alignment with 3 rows and 8 columns\n",
            "AGCTGAC- seq1\n",
            "AGCTGACG seq2\n",
            "AGCTGACC seq3\n"
          ]
        }
      ]
    },
    {
      "cell_type": "markdown",
      "source": [
        "#**4.Searching and Retrieving Sequences from Online Databases (NCBI)**\n",
        "\n",
        "Biopython allows you to retrieve sequences directly from online databases, such as NCBI, using the Bio.Entrez module. This application is especially useful for bioinformaticians and researchers who need to access genomic, transcriptomic, or protein data from public repositories."
      ],
      "metadata": {
        "id": "M3g3pMRXY8JM"
      }
    },
    {
      "cell_type": "code",
      "source": [
        "# Step 1: Install Biopython (if not already installed)\n",
        "#!pip install biopython\n",
        "\n",
        "# Step 2: Import required modules\n",
        "from Bio import Entrez, SeqIO\n",
        "from io import StringIO\n",
        "\n",
        "# Step 3: Set email for NCBI Entrez (required by NCBI to track usage)\n",
        "Entrez.email = \"kkokay07@gmail.com\"  # Replace with your email\n",
        "\n",
        "# Step 4: Search for the BRCA1 gene in the NCBI Nucleotide database (nuccore)\n",
        "search_handle = Entrez.esearch(db=\"nucleotide\", term=\"BRCA1\", retmax=1)\n",
        "search_results = Entrez.read(search_handle)\n",
        "search_handle.close()\n",
        "\n",
        "# Get the Nucleotide ID (Accession Number) for BRCA1\n",
        "nucleotide_id = search_results[\"IdList\"][0]\n",
        "print(f\"Nucleotide ID for BRCA1: {nucleotide_id}\")\n",
        "\n",
        "# Step 5: Retrieve the sequence record using the Nucleotide ID\n",
        "fetch_handle = Entrez.efetch(db=\"nucleotide\", id=nucleotide_id, rettype=\"gb\", retmode=\"text\")\n",
        "gene_record = fetch_handle.read()\n",
        "fetch_handle.close()\n",
        "\n",
        "# Step 6: Parse the GenBank record to extract sequence information\n",
        "genbank_record = SeqIO.read(StringIO(gene_record), \"genbank\")\n",
        "\n",
        "# Step 7: Extract the sequence\n",
        "gene_sequence = genbank_record.seq  # This gives the sequence in a Seq object\n",
        "\n",
        "# Step 8: Print the extracted gene sequence\n",
        "print(\"\\nExtracted Gene Sequence:\")\n",
        "print(gene_sequence)\n"
      ],
      "metadata": {
        "colab": {
          "base_uri": "https://localhost:8080/"
        },
        "id": "WLoyu8k6ZF-R",
        "outputId": "4ee8e068-6991-45b3-d17b-2adb1ba0065e"
      },
      "execution_count": null,
      "outputs": [
        {
          "output_type": "stream",
          "name": "stdout",
          "text": [
            "Nucleotide ID for BRCA1: 2971997793\n",
            "\n",
            "Extracted Gene Sequence:\n",
            "TTATCTACTGTATCGAGAAGAAGAACACGAAACGCTCAAGCGCAGAAAGTTTGCATATGTAGCTTACTAACCTCGCTCGCTAGCTTTAACTTAAAAAATGTGATAGTTAACACACAGTTTAGTCCAAAAAGCATGGAGGGATACAACACAACTGTTCGTATGTCGGGTTTCGTATTGAGTTCGATGATGTTTCATCATTTGAATAGTGATGCGGATGTGGAAGGTCTTGTTCTTGGAGAAAGTGTCGGAGAGGAGAACTGTAGAATCACAGATTCACAGATTGATCAAATACAGGTTGAGCACACTATAAACATTCAAAAACACGTCCCTTGTCGTAAACTTCACAGTTTCTACAGTAATGTTGGCGCTGTGAGCGAGGAGAAAATACGACACATACTGTCTGATTACAAAGAGGAGAATGTAATTGGTTGGTACAGAGAAAGAAGAAACACCAGTCAGCAAATGAGCTTCATGGAACGAGTGATTCATCAGAACATGAGAAAAATTCTGTCCAATCAGGAACTTGTTTTCTTATTGCTCACACCTTCTCAGGCAACATCATCAGGGTCCACCCATCGCCTTGAGTTCTCAGCTTTCATATGGCACAGCAGCCAATTTCTAAATATCCCCGTCTCGGTAAGCAATCTGGGAAACCTTGAACAACAGGACTACTGGAGTGTGTCAACTGTTTGTCCATCTTTAGGACAGAGCCAAGCGGTTAATCAACACAGGAGCAATTTTTTCTACTCAGGGGATGATTTAAATGAGGTCAGAAATGTCAGTGACATGAATGATGCCTTATTGGCTGAAATGCAGAAAATGTGCACGGACGTGGAGAAGAGTGAAAGAGCAGTGGAGAAGCTTCAGAAAGACATCAGTCGACTCAATGAGGATCTCAGAAAACAAAAACATTCAGAGAATAATGAAAGCCAAAAATGTGCCTCTCCAGATGAACCCAAAGAGAACGTTCTTCTGTGCTCAGCTCTGAGAACGCTTTTCCCTGATGCACCCTCATTACGGACACAAACTCTTACTGTTCAGGGCTTTCCTGTATTGAAAAGGTGCTGCAATACAGACCATAATGTTGATATTCCCACCAAACTGCCCCTAGTTCTAAAAACTATGAATGTGGATCAGGCCCCCAGACTCAGGAAAAAATCCCTTGTGACTGGTTTTTCTGAGAGACTTAAAAGGAAGAGGAACACCAATGATGCAGCCTCTGAGAGTGGCTCAGATACAGAGATTGAGATGAATGGAGAGAGCAGAAGTAATTCTCCTACCTTTTAAAGAATGACTTTTTAATTGAAAAATCTACCTGTGATTGGAAGGCATTACAGATTTTATACATGGGGATTTGCCTTTATCTTTTCATACCTACTGAGTGTGGGTTGTGCTATTTTGTTAAAATATTTTTAGATTTTTTTTTATAAAAAAATAATAATTTACCACAAAATTAAAAGTAATATGAATGAA\n"
          ]
        }
      ]
    },
    {
      "cell_type": "markdown",
      "source": [
        "#**5.Biological Sequence Motif Search**\n",
        "\n",
        "Let’s consider an example where we search for a known DNA motif in a given sequence using Biopython. The motif could represent a specific gene binding site, a regulatory element, or any other biologically significant pattern.\n",
        "\n",
        "Here’s an example where we search for a specific DNA motif (e.g., TATAAA which is a common promoter motif) in a given DNA sequence:"
      ],
      "metadata": {
        "id": "RQBpBNLIaOUf"
      }
    },
    {
      "cell_type": "code",
      "source": [
        "# Step 1: Install Biopython (if not already installed)\n",
        "#!pip install biopython\n",
        "\n",
        "# Step 2: Import required modules\n",
        "from Bio import motifs\n",
        "from Bio.Seq import Seq\n",
        "from Bio.SeqUtils import nt_search\n",
        "\n",
        "# Step 3: Define the DNA sequence and the motif to search\n",
        "dna_sequence = Seq(\"AGCTAGTATAAAGCTAGATATAAAAGGCTATAAA\")\n",
        "motif = Seq(\"TATAAA\")\n",
        "\n",
        "# Step 4: Perform motif search in the DNA sequence\n",
        "motif_locations = nt_search(str(dna_sequence), str(motif))\n",
        "\n",
        "# Step 5: Print the motif positions\n",
        "print(\"Motif found at the following positions (0-based indexing):\")\n",
        "print(motif_locations)\n"
      ],
      "metadata": {
        "colab": {
          "base_uri": "https://localhost:8080/"
        },
        "id": "v6FvET1gaafR",
        "outputId": "37bc5437-a85e-4077-91de-eabd4dc93cb2"
      },
      "execution_count": null,
      "outputs": [
        {
          "output_type": "stream",
          "name": "stdout",
          "text": [
            "Motif found at the following positions (0-based indexing):\n",
            "['TATAAA', 6, 18, 28]\n"
          ]
        }
      ]
    },
    {
      "cell_type": "markdown",
      "source": [
        "#**6. Phylogenetics**\n",
        "\n",
        "In this example, we will:\n",
        "\n",
        "Construct a simple phylogenetic tree.\n",
        "\n",
        "Visualize it using Biopython's built-in Phylo module.\n",
        "\n",
        "Use a predefined Newick formatted tree string for demonstration."
      ],
      "metadata": {
        "id": "0WEh2OLIauFb"
      }
    },
    {
      "cell_type": "code",
      "source": [
        "# Step 1: Install Biopython (if not already installed)\n",
        "#!pip install biopython\n",
        "\n",
        "# Step 2: Import required modules\n",
        "from Bio import Phylo\n",
        "from io import StringIO\n",
        "\n",
        "# Step 3: Define a simple Newick formatted tree (example of a small phylogenetic tree)\n",
        "newick_tree = \"((A, B), (C, D));\"\n",
        "\n",
        "# Step 4: Read the tree from the Newick format\n",
        "tree = Phylo.read(StringIO(newick_tree), \"newick\")\n",
        "\n",
        "# Step 5: Display the tree using Biopython's built-in plotting function\n",
        "Phylo.draw(tree)\n",
        "\n",
        "# Step 6: Optionally, print the tree in a human-readable format\n",
        "print(\"Tree in Newick format:\")\n",
        "print(tree)\n"
      ],
      "metadata": {
        "colab": {
          "base_uri": "https://localhost:8080/",
          "height": 611
        },
        "id": "PJ4ARyEIa3U7",
        "outputId": "19fb0ef4-1c0d-4577-94db-ea8377c4ac75"
      },
      "execution_count": null,
      "outputs": [
        {
          "output_type": "display_data",
          "data": {
            "text/plain": [
              "<Figure size 640x480 with 1 Axes>"
            ],
            "image/png": "[encoded data removed]"
          },
          "metadata": {}
        },
        {
          "output_type": "stream",
          "name": "stdout",
          "text": [
            "Tree in Newick format:\n",
            "Tree(rooted=False, weight=1.0)\n",
            "    Clade()\n",
            "        Clade()\n",
            "            Clade(name='A')\n",
            "            Clade(name='B')\n",
            "        Clade()\n",
            "            Clade(name='C')\n",
            "            Clade(name='D')\n"
          ]
        }
      ]
    }
  ]
}