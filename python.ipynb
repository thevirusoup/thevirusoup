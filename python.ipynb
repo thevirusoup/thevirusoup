{
  "nbformat": 4,
  "nbformat_minor": 0,
  "metadata": {
    "colab": {
      "provenance": [],
      "include_colab_link": true
    },
    "kernelspec": {
      "name": "python3",
      "display_name": "Python 3"
    },
    "language_info": {
      "name": "python"
    }
  },
  "cells": [
    {
      "cell_type": "markdown",
      "metadata": {
        "id": "view-in-github",
        "colab_type": "text"
      },
      "source": [
        "<a href=\"https://colab.research.google.com/github/thevirusoup/thevirusoup/blob/main/python.ipynb\" target=\"_parent\"><img src=\"https://colab.research.google.com/assets/colab-badge.svg\" alt=\"Open In Colab\"/></a>"
      ]
    },
    {
      "cell_type": "code",
      "execution_count": null,
      "metadata": {
        "id": "DYX_9TlPTjTk"
      },
      "outputs": [],
      "source": [
        "# int float str\n",
        "\n",
        "# int - integer - -inf, .... -1, 0, 1, ..... inf\n",
        "# float - decimal - 0.1, 0.01., -0.1, 10.3\n",
        "# str - characters - \"a\", 'a', \"bus\", \"im in a bus\", \" \", \"#\", \"@\""
      ]
    },
    {
      "cell_type": "code",
      "source": [
        "# Ctrl + A (select all)\n",
        "# Ctrl + / (comment all)"
      ],
      "metadata": {
        "id": "YwqV9tvwTxdQ"
      },
      "execution_count": null,
      "outputs": []
    },
    {
      "cell_type": "code",
      "source": [
        "# Variables"
      ],
      "metadata": {
        "id": "5xGlsD1zTxkh"
      },
      "execution_count": null,
      "outputs": []
    },
    {
      "cell_type": "code",
      "source": [
        "virat = 60\n",
        "rohit = 30\n",
        "rahul = 10"
      ],
      "metadata": {
        "id": "jWYcEZvzTxno"
      },
      "execution_count": null,
      "outputs": []
    },
    {
      "cell_type": "code",
      "source": [
        "x = 1\n",
        "y = 2\n",
        "z = 3"
      ],
      "metadata": {
        "id": "x5WtnSBATxrB"
      },
      "execution_count": null,
      "outputs": []
    },
    {
      "cell_type": "code",
      "source": [
        "x, y, z = 1, 2, 3"
      ],
      "metadata": {
        "id": "P1P8jZuNVPsj"
      },
      "execution_count": null,
      "outputs": []
    },
    {
      "cell_type": "code",
      "source": [
        "a, b = 10, 20"
      ],
      "metadata": {
        "id": "x7mG6RZ2VQ1w"
      },
      "execution_count": null,
      "outputs": []
    },
    {
      "cell_type": "code",
      "source": [
        "c = a + b"
      ],
      "metadata": {
        "id": "iRVIwLNwVQ5J"
      },
      "execution_count": null,
      "outputs": []
    },
    {
      "cell_type": "code",
      "source": [
        "c"
      ],
      "metadata": {
        "colab": {
          "base_uri": "https://localhost:8080/"
        },
        "id": "N0gywxuvWMy_",
        "outputId": "d3a4f024-da8b-4919-b500-85372ac4792e"
      },
      "execution_count": null,
      "outputs": [
        {
          "output_type": "execute_result",
          "data": {
            "text/plain": [
              "30"
            ]
          },
          "metadata": {},
          "execution_count": 16
        }
      ]
    },
    {
      "cell_type": "code",
      "source": [
        "ticket_price = 90\n",
        "wallet_size = 100"
      ],
      "metadata": {
        "id": "XbvLOveywW5o"
      },
      "execution_count": 1,
      "outputs": []
    },
    {
      "cell_type": "code",
      "source": [
        "# Ctrl + Enter (run)\n",
        "# Comparision <, >, <=, >=, ==, !="
      ],
      "metadata": {
        "id": "_n0CUMuzwe8q"
      },
      "execution_count": 2,
      "outputs": []
    },
    {
      "cell_type": "code",
      "source": [
        "if ticket_price <= wallet_size:\n",
        "  print(\"Hurray, i can go to this movie!\")\n",
        "else:\n",
        "  print(\"Sad, i don't have enough purse\")"
      ],
      "metadata": {
        "colab": {
          "base_uri": "https://localhost:8080/"
        },
        "id": "Pajuk1T8XfOr",
        "outputId": "a162fc84-1a67-410f-aa8c-7e9b5f291297"
      },
      "execution_count": 3,
      "outputs": [
        {
          "output_type": "stream",
          "name": "stdout",
          "text": [
            "Hurray, i can go to this movie!\n"
          ]
        }
      ]
    },
    {
      "cell_type": "code",
      "source": [
        "# if (condition):\n",
        "#   # to do\n",
        "# else:\n",
        "#   # to do"
      ],
      "metadata": {
        "id": "BgQKM_5YwrZc"
      },
      "execution_count": 4,
      "outputs": []
    },
    {
      "cell_type": "code",
      "source": [
        "marks = 85\n",
        "\n",
        "# 90+ A+\n",
        "# 80+ A\n",
        "# 70+ B+\n",
        "# 60+ B\n",
        "# 60- Fail\n",
        "\n",
        "# if else elif"
      ],
      "metadata": {
        "id": "K8AGWj7_wvTu"
      },
      "execution_count": 5,
      "outputs": []
    },
    {
      "cell_type": "code",
      "source": [
        "marks = 40\n",
        "\n",
        "if (marks >= 90):\n",
        "  print(\"A+\")\n",
        "elif (marks >= 80):\n",
        "  print(\"A\")\n",
        "elif (marks >= 70):\n",
        "  print(\"B+\")\n",
        "elif (marks >= 60):\n",
        "  print(\"B\")\n",
        "else:\n",
        "  print(\"Fail\")"
      ],
      "metadata": {
        "id": "9UTtxHOaw2Uw",
        "outputId": "692cd847-73b8-4506-e76b-92ebe47d7a33",
        "colab": {
          "base_uri": "https://localhost:8080/"
        }
      },
      "execution_count": 6,
      "outputs": [
        {
          "output_type": "stream",
          "name": "stdout",
          "text": [
            "Fail\n"
          ]
        }
      ]
    }
  ]
}