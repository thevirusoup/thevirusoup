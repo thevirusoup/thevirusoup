{
  "nbformat": 4,
  "nbformat_minor": 0,
  "metadata": {
    "colab": {
      "provenance": [],
      "include_colab_link": true
    },
    "kernelspec": {
      "name": "python3",
      "display_name": "Python 3"
    },
    "language_info": {
      "name": "python"
    }
  },
  "cells": [
    {
      "cell_type": "markdown",
      "metadata": {
        "id": "view-in-github",
        "colab_type": "text"
      },
      "source": [
        "<a href=\"https://colab.research.google.com/github/thevirusoup/thevirusoup/blob/main/python.ipynb\" target=\"_parent\"><img src=\"https://colab.research.google.com/assets/colab-badge.svg\" alt=\"Open In Colab\"/></a>"
      ]
    },
    {
      "cell_type": "code",
      "execution_count": null,
      "metadata": {
        "id": "DYX_9TlPTjTk"
      },
      "outputs": [],
      "source": [
        "# int float str\n",
        "\n",
        "# int - integer - -inf, .... -1, 0, 1, ..... inf\n",
        "# float - decimal - 0.1, 0.01., -0.1, 10.3\n",
        "# str - characters - \"a\", 'a', \"bus\", \"im in a bus\", \" \", \"#\", \"@\""
      ]
    },
    {
      "cell_type": "code",
      "source": [
        "# Ctrl + A (select all)\n",
        "# Ctrl + / (comment all)"
      ],
      "metadata": {
        "id": "YwqV9tvwTxdQ"
      },
      "execution_count": null,
      "outputs": []
    },
    {
      "cell_type": "code",
      "source": [
        "# Variables"
      ],
      "metadata": {
        "id": "5xGlsD1zTxkh"
      },
      "execution_count": null,
      "outputs": []
    },
    {
      "cell_type": "code",
      "source": [
        "virat = 60\n",
        "rohit = 30\n",
        "rahul = 10"
      ],
      "metadata": {
        "id": "jWYcEZvzTxno"
      },
      "execution_count": null,
      "outputs": []
    },
    {
      "cell_type": "code",
      "source": [
        "x = 1\n",
        "y = 2\n",
        "z = 3"
      ],
      "metadata": {
        "id": "x5WtnSBATxrB"
      },
      "execution_count": null,
      "outputs": []
    },
    {
      "cell_type": "code",
      "source": [
        "x, y, z = 1, 2, 3"
      ],
      "metadata": {
        "id": "P1P8jZuNVPsj"
      },
      "execution_count": null,
      "outputs": []
    },
    {
      "cell_type": "code",
      "source": [
        "a, b = 10, 20"
      ],
      "metadata": {
        "id": "x7mG6RZ2VQ1w"
      },
      "execution_count": null,
      "outputs": []
    },
    {
      "cell_type": "code",
      "source": [
        "c = a + b"
      ],
      "metadata": {
        "id": "iRVIwLNwVQ5J"
      },
      "execution_count": null,
      "outputs": []
    },
    {
      "cell_type": "code",
      "source": [
        "c"
      ],
      "metadata": {
        "colab": {
          "base_uri": "https://localhost:8080/"
        },
        "id": "N0gywxuvWMy_",
        "outputId": "d3a4f024-da8b-4919-b500-85372ac4792e"
      },
      "execution_count": null,
      "outputs": [
        {
          "output_type": "execute_result",
          "data": {
            "text/plain": [
              "30"
            ]
          },
          "metadata": {},
          "execution_count": 16
        }
      ]
    }
  ]
}