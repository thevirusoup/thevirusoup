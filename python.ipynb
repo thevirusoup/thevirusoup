{
  "nbformat": 4,
  "nbformat_minor": 0,
  "metadata": {
    "colab": {
      "provenance": [],
      "include_colab_link": true
    },
    "kernelspec": {
      "name": "python3",
      "display_name": "Python 3"
    },
    "language_info": {
      "name": "python"
    }
  },
  "cells": [
    {
      "cell_type": "markdown",
      "metadata": {
        "id": "view-in-github",
        "colab_type": "text"
      },
      "source": [
        "<a href=\"https://colab.research.google.com/github/thevirusoup/thevirusoup/blob/main/python.ipynb\" target=\"_parent\"><img src=\"https://colab.research.google.com/assets/colab-badge.svg\" alt=\"Open In Colab\"/></a>"
      ]
    },
    {
      "cell_type": "code",
      "execution_count": null,
      "metadata": {
        "id": "DYX_9TlPTjTk"
      },
      "outputs": [],
      "source": [
        "# int float str\n",
        "\n",
        "# int - integer - -inf, .... -1, 0, 1, ..... inf\n",
        "# float - decimal - 0.1, 0.01., -0.1, 10.3\n",
        "# str - characters - \"a\", 'a', \"bus\", \"im in a bus\", \" \", \"#\", \"@\""
      ]
    },
    {
      "cell_type": "code",
      "source": [
        "# Ctrl + A (select all)\n",
        "# Ctrl + / (comment all)"
      ],
      "metadata": {
        "id": "YwqV9tvwTxdQ"
      },
      "execution_count": null,
      "outputs": []
    },
    {
      "cell_type": "code",
      "source": [
        "# Variables"
      ],
      "metadata": {
        "id": "5xGlsD1zTxkh"
      },
      "execution_count": null,
      "outputs": []
    },
    {
      "cell_type": "code",
      "source": [
        "virat = 60\n",
        "rohit = 30\n",
        "rahul = 10"
      ],
      "metadata": {
        "id": "jWYcEZvzTxno"
      },
      "execution_count": null,
      "outputs": []
    },
    {
      "cell_type": "code",
      "source": [
        "x = 1\n",
        "y = 2\n",
        "z = 3"
      ],
      "metadata": {
        "id": "x5WtnSBATxrB"
      },
      "execution_count": null,
      "outputs": []
    },
    {
      "cell_type": "code",
      "source": [
        "x, y, z = 1, 2, 3"
      ],
      "metadata": {
        "id": "P1P8jZuNVPsj"
      },
      "execution_count": null,
      "outputs": []
    },
    {
      "cell_type": "code",
      "source": [
        "a, b = 10, 20"
      ],
      "metadata": {
        "id": "x7mG6RZ2VQ1w"
      },
      "execution_count": null,
      "outputs": []
    },
    {
      "cell_type": "code",
      "source": [
        "c = a + b"
      ],
      "metadata": {
        "id": "iRVIwLNwVQ5J"
      },
      "execution_count": null,
      "outputs": []
    },
    {
      "cell_type": "code",
      "source": [
        "c"
      ],
      "metadata": {
        "colab": {
          "base_uri": "https://localhost:8080/"
        },
        "id": "N0gywxuvWMy_",
        "outputId": "d3a4f024-da8b-4919-b500-85372ac4792e"
      },
      "execution_count": null,
      "outputs": [
        {
          "output_type": "execute_result",
          "data": {
            "text/plain": [
              "30"
            ]
          },
          "metadata": {},
          "execution_count": 16
        }
      ]
    },
    {
      "cell_type": "code",
      "source": [
        "ticket_price = 90\n",
        "wallet_size = 100"
      ],
      "metadata": {
        "id": "XbvLOveywW5o"
      },
      "execution_count": 1,
      "outputs": []
    },
    {
      "cell_type": "code",
      "source": [
        "# Ctrl + Enter (run)\n",
        "# Comparision <, >, <=, >=, ==, !="
      ],
      "metadata": {
        "id": "_n0CUMuzwe8q"
      },
      "execution_count": 2,
      "outputs": []
    },
    {
      "cell_type": "code",
      "source": [
        "if ticket_price <= wallet_size:\n",
        "  print(\"Hurray, i can go to this movie!\")\n",
        "else:\n",
        "  print(\"Sad, i don't have enough purse\")"
      ],
      "metadata": {
        "colab": {
          "base_uri": "https://localhost:8080/"
        },
        "id": "Pajuk1T8XfOr",
        "outputId": "a162fc84-1a67-410f-aa8c-7e9b5f291297"
      },
      "execution_count": 3,
      "outputs": [
        {
          "output_type": "stream",
          "name": "stdout",
          "text": [
            "Hurray, i can go to this movie!\n"
          ]
        }
      ]
    },
    {
      "cell_type": "code",
      "source": [
        "# if (condition):\n",
        "#   # to do\n",
        "# else:\n",
        "#   # to do"
      ],
      "metadata": {
        "id": "BgQKM_5YwrZc"
      },
      "execution_count": 4,
      "outputs": []
    },
    {
      "cell_type": "code",
      "source": [
        "marks = 85\n",
        "\n",
        "# 90+ A+\n",
        "# 80+ A\n",
        "# 70+ B+\n",
        "# 60+ B\n",
        "# 60- Fail\n",
        "\n",
        "# if else elif"
      ],
      "metadata": {
        "id": "K8AGWj7_wvTu"
      },
      "execution_count": 5,
      "outputs": []
    },
    {
      "cell_type": "code",
      "source": [
        "marks = 40\n",
        "\n",
        "if (marks >= 90):\n",
        "  print(\"A+\")\n",
        "elif (marks >= 80):\n",
        "  print(\"A\")\n",
        "elif (marks >= 70):\n",
        "  print(\"B+\")\n",
        "elif (marks >= 60):\n",
        "  print(\"B\")\n",
        "else:\n",
        "  print(\"Fail\")"
      ],
      "metadata": {
        "colab": {
          "base_uri": "https://localhost:8080/"
        },
        "id": "9UTtxHOaw2Uw",
        "outputId": "692cd847-73b8-4506-e76b-92ebe47d7a33"
      },
      "execution_count": 6,
      "outputs": [
        {
          "output_type": "stream",
          "name": "stdout",
          "text": [
            "Fail\n"
          ]
        }
      ]
    },
    {
      "cell_type": "code",
      "source": [
        "# for, range(start, end), in\n",
        "\n",
        "# by default start = 0, range(20)"
      ],
      "metadata": {
        "id": "tK4A7_PaxMMG"
      },
      "execution_count": 7,
      "outputs": []
    },
    {
      "cell_type": "code",
      "source": [
        "print(1)"
      ],
      "metadata": {
        "id": "HydhyHdvxPz2",
        "outputId": "d496ed34-cc86-4d0f-96eb-21eef87150c5",
        "colab": {
          "base_uri": "https://localhost:8080/"
        }
      },
      "execution_count": 8,
      "outputs": [
        {
          "output_type": "stream",
          "name": "stdout",
          "text": [
            "1\n"
          ]
        }
      ]
    },
    {
      "cell_type": "code",
      "source": [
        "print(2)"
      ],
      "metadata": {
        "id": "_e5MhE4kxWnZ",
        "outputId": "59970143-6ad3-44ce-b50d-199ed5938685",
        "colab": {
          "base_uri": "https://localhost:8080/"
        }
      },
      "execution_count": 9,
      "outputs": [
        {
          "output_type": "stream",
          "name": "stdout",
          "text": [
            "2\n"
          ]
        }
      ]
    },
    {
      "cell_type": "code",
      "source": [
        "# for i in range(100):\n",
        "#   print(i)"
      ],
      "metadata": {
        "id": "Bz8PNEWBxcLm"
      },
      "execution_count": 10,
      "outputs": []
    },
    {
      "cell_type": "code",
      "source": [
        "# n/10 --> reminder of 0"
      ],
      "metadata": {
        "id": "pqpSEDpDxiEl"
      },
      "execution_count": 11,
      "outputs": []
    },
    {
      "cell_type": "code",
      "source": [
        "num = 70\n",
        "\n",
        "if (num%10) == 0:\n",
        "  print(num)\n",
        "else:\n",
        "  print(\"\")"
      ],
      "metadata": {
        "id": "yurzHUSgxlam",
        "outputId": "0f179e95-cc50-4c43-e323-daae6733be69",
        "colab": {
          "base_uri": "https://localhost:8080/"
        }
      },
      "execution_count": 12,
      "outputs": [
        {
          "output_type": "stream",
          "name": "stdout",
          "text": [
            "70\n"
          ]
        }
      ]
    },
    {
      "cell_type": "code",
      "source": [
        "for i in range(100):\n",
        "  if (i%20) == 0:\n",
        "    print(\"divisible: \", i)\n",
        "  else:\n",
        "    print(\"not divisible: \", i)"
      ],
      "metadata": {
        "id": "0s8SWEY4yCfX",
        "outputId": "59340118-ec3b-44d4-99fd-b43ba1d800ec",
        "colab": {
          "base_uri": "https://localhost:8080/"
        }
      },
      "execution_count": 13,
      "outputs": [
        {
          "output_type": "stream",
          "name": "stdout",
          "text": [
            "divisible:  0\n",
            "not divisible:  1\n",
            "not divisible:  2\n",
            "not divisible:  3\n",
            "not divisible:  4\n",
            "not divisible:  5\n",
            "not divisible:  6\n",
            "not divisible:  7\n",
            "not divisible:  8\n",
            "not divisible:  9\n",
            "not divisible:  10\n",
            "not divisible:  11\n",
            "not divisible:  12\n",
            "not divisible:  13\n",
            "not divisible:  14\n",
            "not divisible:  15\n",
            "not divisible:  16\n",
            "not divisible:  17\n",
            "not divisible:  18\n",
            "not divisible:  19\n",
            "divisible:  20\n",
            "not divisible:  21\n",
            "not divisible:  22\n",
            "not divisible:  23\n",
            "not divisible:  24\n",
            "not divisible:  25\n",
            "not divisible:  26\n",
            "not divisible:  27\n",
            "not divisible:  28\n",
            "not divisible:  29\n",
            "not divisible:  30\n",
            "not divisible:  31\n",
            "not divisible:  32\n",
            "not divisible:  33\n",
            "not divisible:  34\n",
            "not divisible:  35\n",
            "not divisible:  36\n",
            "not divisible:  37\n",
            "not divisible:  38\n",
            "not divisible:  39\n",
            "divisible:  40\n",
            "not divisible:  41\n",
            "not divisible:  42\n",
            "not divisible:  43\n",
            "not divisible:  44\n",
            "not divisible:  45\n",
            "not divisible:  46\n",
            "not divisible:  47\n",
            "not divisible:  48\n",
            "not divisible:  49\n",
            "not divisible:  50\n",
            "not divisible:  51\n",
            "not divisible:  52\n",
            "not divisible:  53\n",
            "not divisible:  54\n",
            "not divisible:  55\n",
            "not divisible:  56\n",
            "not divisible:  57\n",
            "not divisible:  58\n",
            "not divisible:  59\n",
            "divisible:  60\n",
            "not divisible:  61\n",
            "not divisible:  62\n",
            "not divisible:  63\n",
            "not divisible:  64\n",
            "not divisible:  65\n",
            "not divisible:  66\n",
            "not divisible:  67\n",
            "not divisible:  68\n",
            "not divisible:  69\n",
            "not divisible:  70\n",
            "not divisible:  71\n",
            "not divisible:  72\n",
            "not divisible:  73\n",
            "not divisible:  74\n",
            "not divisible:  75\n",
            "not divisible:  76\n",
            "not divisible:  77\n",
            "not divisible:  78\n",
            "not divisible:  79\n",
            "divisible:  80\n",
            "not divisible:  81\n",
            "not divisible:  82\n",
            "not divisible:  83\n",
            "not divisible:  84\n",
            "not divisible:  85\n",
            "not divisible:  86\n",
            "not divisible:  87\n",
            "not divisible:  88\n",
            "not divisible:  89\n",
            "not divisible:  90\n",
            "not divisible:  91\n",
            "not divisible:  92\n",
            "not divisible:  93\n",
            "not divisible:  94\n",
            "not divisible:  95\n",
            "not divisible:  96\n",
            "not divisible:  97\n",
            "not divisible:  98\n",
            "not divisible:  99\n"
          ]
        }
      ]
    }
  ]
}