{
  "nbformat": 4,
  "nbformat_minor": 0,
  "metadata": {
    "colab": {
      "provenance": [],
      "authorship_tag": "ABX9TyO0agDm2jQeMh0xJzSprGGH",
      "include_colab_link": true
    },
    "kernelspec": {
      "name": "python3",
      "display_name": "Python 3"
    },
    "language_info": {
      "name": "python"
    }
  },
  "cells": [
    {
      "cell_type": "markdown",
      "metadata": {
        "id": "view-in-github",
        "colab_type": "text"
      },
      "source": [
        "<a href=\"https://colab.research.google.com/github/thevirusoup/thevirusoup/blob/main/RNA_Seq_Analysis_by_DESeq2_in_R_Studio.ipynb\" target=\"_parent\"><img src=\"https://colab.research.google.com/assets/colab-badge.svg\" alt=\"Open In Colab\"/></a>"
      ]
    },
    {
      "cell_type": "code",
      "execution_count": null,
      "metadata": {
        "id": "yNLO8pThf1e1"
      },
      "outputs": [],
      "source": [
        "# ------------------------------\n",
        "# 1️⃣ Load packages\n",
        "# ------------------------------\n",
        "library(DESeq2)\n",
        "library(tidyverse)\n",
        "\n",
        "# ------------------------------\n",
        "# 2️⃣ Load count matrix\n",
        "# ------------------------------\n",
        "counts <- read.table(\"C:/Users/pc/Documents/Tanzil/all_counts_clean.txt\",\n",
        "                     header=TRUE, row.names=1)\n",
        "\n",
        "# Check the first few rows\n",
        "head(counts)\n",
        "dim(counts)\n",
        "colnames(counts)\n",
        "\n",
        "# ------------------------------\n",
        "# 3️⃣ Prepare sample metadata\n",
        "# ------------------------------\n",
        "sample_info <- data.frame(\n",
        "  sample = colnames(counts),\n",
        "  condition = c(\"N1W\",\"N1W\",\"N1W\",\"N1Y\")   # Updated condition for SRR14999757\n",
        ")\n",
        "rownames(sample_info) <- sample_info$sample\n",
        "\n",
        "# ------------------------------\n",
        "# 4️⃣ Create DESeq2 dataset\n",
        "# ------------------------------\n",
        "dds <- DESeqDataSetFromMatrix(\n",
        "  countData = counts,\n",
        "  colData = sample_info,\n",
        "  design = ~ condition\n",
        ")\n",
        "\n",
        "# Pre-filter low counts\n",
        "dds <- dds[rowSums(counts(dds)) > 1, ]\n",
        "\n",
        "# Run DESeq2 (normalization + DE analysis)\n",
        "dds <- DESeq(dds)\n",
        "\n",
        "# ------------------------------\n",
        "# 5️⃣ Extract normalized counts\n",
        "# ------------------------------\n",
        "normalized_counts <- counts(dds, normalized=TRUE)\n",
        "head(normalized_counts)\n",
        "\n",
        "# ------------------------------\n",
        "# 6️⃣ Extract DEGs\n",
        "# ------------------------------\n",
        "# Compare N1W vs N1Y\n",
        "res <- results(dds, contrast=c(\"condition\",\"N1W\",\"N1Y\"))\n",
        "\n",
        "# Order by adjusted p-value\n",
        "res <- res[order(res$padj), ]\n",
        "\n",
        "# Filter significant DEGs\n",
        "deg_list <- subset(res, padj < 0.05 & abs(log2FoldChange) > 1)\n",
        "\n",
        "# View top DEGs\n",
        "head(deg_list)\n",
        "\n",
        "# Save DEGs to CSV\n",
        "write.csv(as.data.frame(deg_list), \"DEGs_N1W_vs_N1Y.csv\")\n"
      ]
    },
    {
      "cell_type": "code",
      "source": [
        "# Create a clean counts matrix (only gene rows, no summary lines)\n",
        "paste SRR14999754_ReadsPerGene.out.tab \\\n",
        "      SRR14999755_ReadsPerGene.out.tab \\\n",
        "      SRR14999756_ReadsPerGene.out.tab \\\n",
        "      SRR14999757_ReadsPerGene.out.tab \\\n",
        "| grep -v -E 'N_unmapped|N_multimapping|N_noFeature|N_ambiguous' \\\n",
        "| awk 'BEGIN{OFS=\"\\t\"} {print $1,$2,$6,$10,$14}' \\\n",
        "> all_counts.txt\n",
        "\n",
        "# Add header line\n",
        "sed -i '1iGeneID\\tSRR14999754\\tSRR14999755\\tSRR14999756\\tSRR14999757' all_counts.txt\n"
      ],
      "metadata": {
        "id": "0mUyhhJXJAi_"
      },
      "execution_count": null,
      "outputs": []
    }
  ]
}